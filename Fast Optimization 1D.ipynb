{
 "cells": [
  {
   "cell_type": "markdown",
   "metadata": {
    "toc": true
   },
   "source": [
    "<h1>Table of Contents<span class=\"tocSkip\"></span></h1>\n",
    "<div class=\"toc\"><ul class=\"toc-item\"><li><span><a href=\"#Setup\" data-toc-modified-id=\"Setup-1\"><span class=\"toc-item-num\">1&nbsp;&nbsp;</span>Setup</a></span></li><li><span><a href=\"#Introduction\" data-toc-modified-id=\"Introduction-2\"><span class=\"toc-item-num\">2&nbsp;&nbsp;</span>Introduction</a></span></li><li><span><a href=\"#Run\" data-toc-modified-id=\"Run-3\"><span class=\"toc-item-num\">3&nbsp;&nbsp;</span>Run</a></span></li><li><span><a href=\"#Time\" data-toc-modified-id=\"Time-4\"><span class=\"toc-item-num\">4&nbsp;&nbsp;</span>Time</a></span></li></ul></div>"
   ]
  },
  {
   "cell_type": "markdown",
   "metadata": {},
   "source": [
    "**Abstract:** This notebooks shows how to use the **optimize_1d** module."
   ]
  },
  {
   "cell_type": "markdown",
   "metadata": {},
   "source": [
    "# Setup"
   ]
  },
  {
   "cell_type": "code",
   "execution_count": 1,
   "metadata": {
    "ExecuteTime": {
     "end_time": "2018-06-11T21:53:03.139363Z",
     "start_time": "2018-06-11T21:53:02.461874Z"
    },
    "code_folding": [
     0
    ],
    "scrolled": true
   },
   "outputs": [],
   "source": [
    "# imports and settings\n",
    "%matplotlib inline\n",
    "%load_ext autoreload\n",
    "%autoreload 1\n",
    "\n",
    "# imports\n",
    "import time\n",
    "import numba\n",
    "import numpy as np\n",
    "from vfi import optimize_1d as optimize_1d\n",
    "%aimport vfi\n"
   ]
  },
  {
   "cell_type": "code",
   "execution_count": 2,
   "metadata": {
    "ExecuteTime": {
     "end_time": "2018-06-11T21:53:03.151372Z",
     "start_time": "2018-06-11T21:53:03.142366Z"
    },
    "code_folding": [
     0
    ]
   },
   "outputs": [
    {
     "data": {
      "text/html": [
       "<style>\n",
       ".output_wrapper, .output {\n",
       "    height:auto !important;\n",
       "    max-height:5000px;  /* your desired max-height here */\n",
       "}\n",
       ".output_scroll {\n",
       "    box-shadow:none !important;\n",
       "    webkit-box-shadow:none !important;\n",
       "}\n",
       "</style>"
      ],
      "text/plain": [
       "<IPython.core.display.HTML object>"
      ]
     },
     "metadata": {},
     "output_type": "display_data"
    }
   ],
   "source": [
    "%%html\n",
    "<style>\n",
    ".output_wrapper, .output {\n",
    "    height:auto !important;\n",
    "    max-height:5000px;  /* your desired max-height here */\n",
    "}\n",
    ".output_scroll {\n",
    "    box-shadow:none !important;\n",
    "    webkit-box-shadow:none !important;\n",
    "}\n",
    "</style>"
   ]
  },
  {
   "cell_type": "markdown",
   "metadata": {},
   "source": [
    "# Introduction"
   ]
  },
  {
   "cell_type": "markdown",
   "metadata": {},
   "source": [
    "The **optimize_1d** module provides a **Numba JIT** compilled one-dimensional **optimizer function** (using **golden secant search**) for a user-defined Numba JIT compilled function with abirtrary number of fixed inputs."
   ]
  },
  {
   "cell_type": "markdown",
   "metadata": {},
   "source": [
    "# Run"
   ]
  },
  {
   "cell_type": "code",
   "execution_count": 3,
   "metadata": {
    "code_folding": [],
    "scrolled": true
   },
   "outputs": [
    {
     "name": "stdout",
     "output_type": "stream",
     "text": [
      "result = 1.3458246662576798\n"
     ]
    }
   ],
   "source": [
    "# a. target function\n",
    "@numba.njit\n",
    "def f(x,alpha,beta):\n",
    "    return (x - alpha) * x * (x + beta)**2\n",
    "\n",
    "# d. create optimizer\n",
    "optimizer_f = optimize_1d.create_optimizer(f)\n",
    "\n",
    "# c. call optimizer\n",
    "low = 0\n",
    "high = 4\n",
    "tol = 1e-5\n",
    "alpha = 2\n",
    "beta = 1.2\n",
    "result = optimizer_f(low,high,tol,alpha,beta)\n",
    "\n",
    "print(f'result = {result}')"
   ]
  },
  {
   "cell_type": "markdown",
   "metadata": {},
   "source": [
    "# Time"
   ]
  },
  {
   "cell_type": "code",
   "execution_count": 4,
   "metadata": {},
   "outputs": [
    {
     "name": "stdout",
     "output_type": "stream",
     "text": [
      "result is 1.3458246662576798\n",
      "best time (of 5) 0.35 secs\n"
     ]
    }
   ],
   "source": [
    "# a. settings\n",
    "loop_length = 1000000\n",
    "best_of = 5\n",
    "\n",
    "# b. test function\n",
    "def time_function(g,loop_length,*args):\n",
    "    best_time = np.inf\n",
    "    for _ in range(best_of):   \n",
    "        tic = time.time()\n",
    "        for _ in range(loop_length):\n",
    "            y = g(*args)\n",
    "        toc = time.time()\n",
    "        best_time = np.fmin(best_time,toc-tic) \n",
    "    print(f'result is {y}')\n",
    "    print(f'best time (of {best_of}) {best_time:.2f} secs')\n",
    "\n",
    "# c. run\n",
    "time_function(optimizer_f,loop_length,low,high,tol,alpha,beta)"
   ]
  }
 ],
 "metadata": {
  "kernelspec": {
   "display_name": "Python 3",
   "language": "python",
   "name": "python3"
  },
  "language_info": {
   "codemirror_mode": {
    "name": "ipython",
    "version": 3
   },
   "file_extension": ".py",
   "mimetype": "text/x-python",
   "name": "python",
   "nbconvert_exporter": "python",
   "pygments_lexer": "ipython3",
   "version": "3.6.5"
  },
  "toc": {
   "base_numbering": 1,
   "nav_menu": {},
   "number_sections": true,
   "sideBar": true,
   "skip_h1_title": false,
   "title_cell": "Table of Contents",
   "title_sidebar": "Contents",
   "toc_cell": true,
   "toc_position": {},
   "toc_section_display": true,
   "toc_window_display": false
  }
 },
 "nbformat": 4,
 "nbformat_minor": 2
}
