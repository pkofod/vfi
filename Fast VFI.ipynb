{
 "cells": [
  {
   "cell_type": "markdown",
   "metadata": {
    "toc": true
   },
   "source": [
    "<h1>Table of Contents<span class=\"tocSkip\"></span></h1>\n",
    "<div class=\"toc\"><ul class=\"toc-item\"><li><span><a href=\"#Setup\" data-toc-modified-id=\"Setup-1\"><span class=\"toc-item-num\">1&nbsp;&nbsp;</span>Setup</a></span></li><li><span><a href=\"#Model\" data-toc-modified-id=\"Model-2\"><span class=\"toc-item-num\">2&nbsp;&nbsp;</span>Model</a></span></li><li><span><a href=\"#Solve\" data-toc-modified-id=\"Solve-3\"><span class=\"toc-item-num\">3&nbsp;&nbsp;</span>Solve</a></span></li><li><span><a href=\"#Figures\" data-toc-modified-id=\"Figures-4\"><span class=\"toc-item-num\">4&nbsp;&nbsp;</span>Figures</a></span></li></ul></div>"
   ]
  },
  {
   "cell_type": "markdown",
   "metadata": {},
   "source": [
    "**Abstract:** This notebooks shows how to use the **linear_interp** and **optimize_1d** modules to solve a dynamic programming model with **value function iteration**. Each time step is solved using fully **Numba JIT compilled** code."
   ]
  },
  {
   "cell_type": "markdown",
   "metadata": {},
   "source": [
    "# Setup"
   ]
  },
  {
   "cell_type": "code",
   "execution_count": 1,
   "metadata": {
    "ExecuteTime": {
     "end_time": "2018-06-11T21:53:03.139363Z",
     "start_time": "2018-06-11T21:53:02.461874Z"
    },
    "code_folding": [
     0
    ],
    "scrolled": true
   },
   "outputs": [],
   "source": [
    "# import and settings\n",
    "%matplotlib inline\n",
    "%load_ext autoreload\n",
    "%autoreload 1\n",
    "\n",
    "# external\n",
    "%aimport example\n",
    "%aimport example_figures"
   ]
  },
  {
   "cell_type": "code",
   "execution_count": 2,
   "metadata": {
    "ExecuteTime": {
     "end_time": "2018-06-11T21:53:03.151372Z",
     "start_time": "2018-06-11T21:53:03.142366Z"
    },
    "code_folding": [
     0
    ]
   },
   "outputs": [
    {
     "data": {
      "text/html": [
       "<style>\n",
       ".output_wrapper, .output {\n",
       "    height:auto !important;\n",
       "    max-height:5000px;  /* your desired max-height here */\n",
       "}\n",
       ".output_scroll {\n",
       "    box-shadow:none !important;\n",
       "    webkit-box-shadow:none !important;\n",
       "}\n",
       "</style>"
      ],
      "text/plain": [
       "<IPython.core.display.HTML object>"
      ]
     },
     "metadata": {},
     "output_type": "display_data"
    }
   ],
   "source": [
    "%%html\n",
    "<style>\n",
    ".output_wrapper, .output {\n",
    "    height:auto !important;\n",
    "    max-height:5000px;  /* your desired max-height here */\n",
    "}\n",
    ".output_scroll {\n",
    "    box-shadow:none !important;\n",
    "    webkit-box-shadow:none !important;\n",
    "}\n",
    "</style>"
   ]
  },
  {
   "cell_type": "markdown",
   "metadata": {},
   "source": [
    "**Choose name and solve/load**"
   ]
  },
  {
   "cell_type": "code",
   "execution_count": 3,
   "metadata": {},
   "outputs": [],
   "source": [
    "NAME = 'baseline'\n",
    "SOLVE = True\n",
    "# SOLVE = False"
   ]
  },
  {
   "cell_type": "markdown",
   "metadata": {},
   "source": [
    "# Model"
   ]
  },
  {
   "cell_type": "markdown",
   "metadata": {},
   "source": [
    "This section described the model used as an **example**."
   ]
  },
  {
   "cell_type": "markdown",
   "metadata": {},
   "source": [
    "The **utility function** is \n",
    "\n",
    "$$ \\begin{eqnarray}\n",
    "u(b_{t},c_{t}) &=& \\frac{[\\phi(b_{t}+\\underline{b})^{1-\\gamma}+(1-\\phi)c_{t}^{1-\\gamma}]^{\\frac{1-\\rho}{1-\\gamma}}}{1-\\rho}\n",
    "\\end{eqnarray}$$\n",
    "\n",
    "The **bequest utility function** is\n",
    "\n",
    "$$ \\begin{eqnarray}\n",
    "\\nu(a_{t},b_{t})&=&\\varphi\\frac{(a_{t}+b_{t}+\\underline{q})^{1-\\vartheta}}{1-\\vartheta}\n",
    "\\end{eqnarray}$$\n",
    "\n",
    "The **value function** is given by\n",
    "\n",
    "$$ \\begin{eqnarray}\n",
    "v_{t}(m_{t},n_{t},l_{t})&=&\\max\\{v_{t}^{keep}(m_{t},n_{t},l_{t}),v_{t}^{adj}(m_{t},n_{t},l_{t})\\} \\\\\n",
    "& \\text{s.t.} & \\\\ \n",
    "x_{t}&=&m_{t}+(1-\\tau)n_{t}\n",
    "\\end{eqnarray}$$\n",
    "\n",
    "where the **post-decision value function** is\n",
    "\n",
    "$$ \\begin{eqnarray}\n",
    "w_{t}(a_{t},b_{t},l_{t}) &=& \\nu(a_{t},b_{t}), t = T \\\\\n",
    "w_{t}(a_{t},b_{t},l_{t}) &=& \\mathbb{E}_{t}\\left[\\max\\{v_{t}^{keep}(m_{t+1},n_{t+1},l_{t+1}),v_{t}^{adj}(x_{t+1},l_{t+1})\\}\\right], t < T \\\\\n",
    "&\\text{s.t.}& \\\\\n",
    "l_{t+1}&\\sim&F(l_{t}) \\\\\n",
    "m_{t+1}&=&(1+r_{a})a_{t}+\\omega l_{t+1} \\\\\n",
    "n_{t+1}&=&(1-\\delta)b_{t} \\\\\n",
    "x_{t+1}&=&m_{t+1}+(1-\\tau)n_{t+1}\n",
    "\\end{eqnarray} $$\n",
    "\n",
    "and the **keep value function** is\n",
    "\n",
    "$$ \\begin{eqnarray}\n",
    "v_{t}^{keep}(m_{t},n_{t},l_{t}) &=& \\max_{c_{t}\\in[0,m_{t}]}u(n_{t},c_{t})+\\beta w_{t}(a_{t},b_{t},l_{t}) \\\\ \n",
    "&\\text{s.t.}& \\\\ \n",
    "a_{t}&=&m_{t}-c_{t}\\\\b_{t}&=&n_{t}\n",
    "\\end{eqnarray}$$\n",
    "\n",
    "and the **adjust value function** is\n",
    "\n",
    "$$ \\begin{eqnarray}\n",
    "v_{t}^{adj}(x_{t},l_{t}) &=& \\max_{b_{t}\\in[0,x_{t}]}v_{t}^{keep}(m_{t},n_{t},l_{t}) \\\\ \n",
    "&\\text{s.t.}& \\\\ \n",
    "m_{t}&=&x_{t}-b_{t}\\\\n_{t}&=&b_{t}\n",
    "\\end{eqnarray}$$\n"
   ]
  },
  {
   "cell_type": "markdown",
   "metadata": {},
   "source": [
    "# Solve"
   ]
  },
  {
   "cell_type": "code",
   "execution_count": 4,
   "metadata": {
    "ExecuteTime": {
     "end_time": "2018-06-11T21:53:08.005840Z",
     "start_time": "2018-06-11T21:53:03.153374Z"
    },
    "code_folding": [],
    "scrolled": true
   },
   "outputs": [
    {
     "name": "stdout",
     "output_type": "stream",
     "text": [
      "model setup done\n",
      "model solved in 10.4 secs (checksum = 0.23791378733065993)\n",
      "parameters saved in 0.00 secs\n",
      "solution saved in 0.06 secs\n"
     ]
    }
   ],
   "source": [
    "if SOLVE:\n",
    "    \n",
    "    # a. setup\n",
    "    model = example.model(NAME)\n",
    "    \n",
    "    # b. on-the-fly changes\n",
    "        \n",
    "    # c. solve\n",
    "    model.solve(do_print=False)\n",
    "\n",
    "    # d. save\n",
    "    model.save()\n",
    "    \n",
    "else:\n",
    "    \n",
    "    model = example.model(NAME,load=True)"
   ]
  },
  {
   "cell_type": "markdown",
   "metadata": {},
   "source": [
    "# Figures"
   ]
  },
  {
   "cell_type": "code",
   "execution_count": 5,
   "metadata": {
    "scrolled": true
   },
   "outputs": [
    {
     "data": {
      "application/vnd.jupyter.widget-view+json": {
       "model_id": "88af32f2246446eb9e04713ed5e96c8e",
       "version_major": 2,
       "version_minor": 0
      },
      "text/plain": [
       "interactive(children=(Dropdown(description='t', options=(0, 1, 2, 3, 4, 5, 6, 7, 8, 9, 10, 11, 12, 13, 14, 15,…"
      ]
     },
     "metadata": {},
     "output_type": "display_data"
    }
   ],
   "source": [
    "example_figures.all(model)"
   ]
  }
 ],
 "metadata": {
  "kernelspec": {
   "display_name": "Python 3",
   "language": "python",
   "name": "python3"
  },
  "language_info": {
   "codemirror_mode": {
    "name": "ipython",
    "version": 3
   },
   "file_extension": ".py",
   "mimetype": "text/x-python",
   "name": "python",
   "nbconvert_exporter": "python",
   "pygments_lexer": "ipython3",
   "version": "3.6.5"
  },
  "latex_envs": {
   "LaTeX_envs_menu_present": true,
   "autocomplete": true,
   "bibliofile": "biblio.bib",
   "cite_by": "apalike",
   "current_citInitial": 1,
   "eqLabelWithNumbers": true,
   "eqNumInitial": 1,
   "hotkeys": {
    "equation": "Ctrl-E",
    "itemize": "Ctrl-I"
   },
   "labels_anchors": false,
   "latex_user_defs": false,
   "report_style_numbering": false,
   "user_envs_cfg": false
  },
  "toc": {
   "base_numbering": 1,
   "nav_menu": {},
   "number_sections": true,
   "sideBar": false,
   "skip_h1_title": false,
   "title_cell": "Table of Contents",
   "title_sidebar": "Contents",
   "toc_cell": true,
   "toc_position": {},
   "toc_section_display": true,
   "toc_window_display": false
  },
  "varInspector": {
   "cols": {
    "lenName": 16,
    "lenType": 16,
    "lenVar": 40
   },
   "kernels_config": {
    "python": {
     "delete_cmd_postfix": "",
     "delete_cmd_prefix": "del ",
     "library": "var_list.py",
     "varRefreshCmd": "print(var_dic_list())"
    },
    "r": {
     "delete_cmd_postfix": ") ",
     "delete_cmd_prefix": "rm(",
     "library": "var_list.r",
     "varRefreshCmd": "cat(var_dic_list()) "
    }
   },
   "oldHeight": 267,
   "position": {
    "height": "40px",
    "left": "1542.33px",
    "right": "20px",
    "top": "133px",
    "width": "328px"
   },
   "types_to_exclude": [
    "module",
    "function",
    "builtin_function_or_method",
    "instance",
    "_Feature"
   ],
   "varInspector_section_display": "none",
   "window_display": true
  }
 },
 "nbformat": 4,
 "nbformat_minor": 2
}
