{
 "cells": [
  {
   "cell_type": "markdown",
   "metadata": {
    "toc": true
   },
   "source": [
    "<h1>Table of Contents<span class=\"tocSkip\"></span></h1>\n",
    "<div class=\"toc\"><ul class=\"toc-item\"><li><span><a href=\"#Setup\" data-toc-modified-id=\"Setup-1\"><span class=\"toc-item-num\">1&nbsp;&nbsp;</span>Setup</a></span></li><li><span><a href=\"#Introduction\" data-toc-modified-id=\"Introduction-2\"><span class=\"toc-item-num\">2&nbsp;&nbsp;</span>Introduction</a></span></li><li><span><a href=\"#One-dimensional-examples\" data-toc-modified-id=\"One-dimensional-examples-3\"><span class=\"toc-item-num\">3&nbsp;&nbsp;</span>One-dimensional examples</a></span><ul class=\"toc-item\"><li><span><a href=\"#Basic-setup\" data-toc-modified-id=\"Basic-setup-3.1\"><span class=\"toc-item-num\">3.1&nbsp;&nbsp;</span>Basic setup</a></span></li><li><span><a href=\"#Single-point\" data-toc-modified-id=\"Single-point-3.2\"><span class=\"toc-item-num\">3.2&nbsp;&nbsp;</span>Single point</a></span></li><li><span><a href=\"#Vector-of-points\" data-toc-modified-id=\"Vector-of-points-3.3\"><span class=\"toc-item-num\">3.3&nbsp;&nbsp;</span>Vector of points</a></span></li><li><span><a href=\"#Multi-function-interpolation-(point)\" data-toc-modified-id=\"Multi-function-interpolation-(point)-3.4\"><span class=\"toc-item-num\">3.4&nbsp;&nbsp;</span>Multi-function interpolation (point)</a></span></li><li><span><a href=\"#Multi-function-interpolation-(vector)\" data-toc-modified-id=\"Multi-function-interpolation-(vector)-3.5\"><span class=\"toc-item-num\">3.5&nbsp;&nbsp;</span>Multi-function interpolation (vector)</a></span></li></ul></li><li><span><a href=\"#Multi-dimensional-examples\" data-toc-modified-id=\"Multi-dimensional-examples-4\"><span class=\"toc-item-num\">4&nbsp;&nbsp;</span>Multi-dimensional examples</a></span><ul class=\"toc-item\"><li><span><a href=\"#Without-monotonoicity\" data-toc-modified-id=\"Without-monotonoicity-4.1\"><span class=\"toc-item-num\">4.1&nbsp;&nbsp;</span>Without monotonoicity</a></span></li><li><span><a href=\"#With-monotonicity\" data-toc-modified-id=\"With-monotonicity-4.2\"><span class=\"toc-item-num\">4.2&nbsp;&nbsp;</span>With monotonicity</a></span></li></ul></li><li><span><a href=\"#Parallel\" data-toc-modified-id=\"Parallel-5\"><span class=\"toc-item-num\">5&nbsp;&nbsp;</span>Parallel</a></span></li><li><span><a href=\"#Speed-Tests-(without-parallization)\" data-toc-modified-id=\"Speed-Tests-(without-parallization)-6\"><span class=\"toc-item-num\">6&nbsp;&nbsp;</span>Speed Tests (without parallization)</a></span><ul class=\"toc-item\"><li><span><a href=\"#Loop-with-interpolation-for-single-point\" data-toc-modified-id=\"Loop-with-interpolation-for-single-point-6.1\"><span class=\"toc-item-num\">6.1&nbsp;&nbsp;</span>Loop with interpolation for single point</a></span></li><li><span><a href=\"#Interpolation-for-a-vector-of-points\" data-toc-modified-id=\"Interpolation-for-a-vector-of-points-6.2\"><span class=\"toc-item-num\">6.2&nbsp;&nbsp;</span>Interpolation for a vector of points</a></span></li></ul></li></ul></div>"
   ]
  },
  {
   "cell_type": "markdown",
   "metadata": {},
   "source": [
    "**Abstract:** This notebooks shows how to use the **linear_interp** module."
   ]
  },
  {
   "cell_type": "markdown",
   "metadata": {},
   "source": [
    "# Setup"
   ]
  },
  {
   "cell_type": "code",
   "execution_count": 1,
   "metadata": {
    "ExecuteTime": {
     "end_time": "2018-06-11T21:53:03.139363Z",
     "start_time": "2018-06-11T21:53:02.461874Z"
    },
    "code_folding": [
     0
    ],
    "scrolled": true
   },
   "outputs": [],
   "source": [
    "# imports and settings\n",
    "%matplotlib inline\n",
    "%load_ext autoreload\n",
    "%autoreload 1\n",
    "\n",
    "# imports\n",
    "import time\n",
    "import numba\n",
    "import numpy as np\n",
    "from vfi import linear_interp\n",
    "from vfi import linear_interp_test\n",
    "%aimport vfi\n",
    "\n",
    "np.random.seed(2018)"
   ]
  },
  {
   "cell_type": "code",
   "execution_count": 2,
   "metadata": {
    "ExecuteTime": {
     "end_time": "2018-06-11T21:53:03.151372Z",
     "start_time": "2018-06-11T21:53:03.142366Z"
    },
    "code_folding": [
     0
    ]
   },
   "outputs": [
    {
     "data": {
      "text/html": [
       "<style>\n",
       ".output_wrapper, .output {\n",
       "    height:auto !important;\n",
       "    max-height:5000px;  /* your desired max-height here */\n",
       "}\n",
       ".output_scroll {\n",
       "    box-shadow:none !important;\n",
       "    webkit-box-shadow:none !important;\n",
       "}\n",
       "</style>"
      ],
      "text/plain": [
       "<IPython.core.display.HTML object>"
      ]
     },
     "metadata": {},
     "output_type": "display_data"
    }
   ],
   "source": [
    "%%html\n",
    "<style>\n",
    ".output_wrapper, .output {\n",
    "    height:auto !important;\n",
    "    max-height:5000px;  /* your desired max-height here */\n",
    "}\n",
    ".output_scroll {\n",
    "    box-shadow:none !important;\n",
    "    webkit-box-shadow:none !important;\n",
    "}\n",
    "</style>"
   ]
  },
  {
   "cell_type": "markdown",
   "metadata": {},
   "source": [
    "# Introduction"
   ]
  },
  {
   "cell_type": "markdown",
   "metadata": {},
   "source": [
    "The **linear_interp** module provides a **Numba JIT** compilled **interpolator class** for **linear interpolation** (and extrapolation) of **multiple functions** in **n-dimensions** for:\n",
    "\n",
    "1. A *single* point\n",
    "2. A *vector* of points\n",
    "3. A *vector* of *monotonic* points, where the input array can be written\n",
    "\n",
    "$$ x = [[x_1,x_2,...,x_{d-1},x_d^1],[x_1,x_2,...,x_{d-1},x_d^2],...,[x_1,x_2,...,x_{d-1},x_d^n]]$$\n",
    "$$ \\text{ where } x_d^1 < x_d^2 < ... < x_d^n $$\n",
    "\n",
    "\n",
    "The interpolator class can be used inside a parallel loop (**prange**, see section 5).\n",
    "\n",
    "** Speed tests without parallization: ** \n",
    "\n",
    "Using a test case with **3 input dimensions** and **2 output dimensions** the speed-up relative to **scipy**'s **RegularGridInterpolator** is:\n",
    "\n",
    "1. \\> 40 for a long loop with interpolation of a single point\n",
    "2. \\> 3 for a vector of points\n",
    "3. \\> 10 for a vector of *monotonic* points"
   ]
  },
  {
   "cell_type": "markdown",
   "metadata": {},
   "source": [
    "# One-dimensional examples"
   ]
  },
  {
   "cell_type": "markdown",
   "metadata": {},
   "source": [
    "In this section, we show some one-dimensional examples of how to use the interpolator class."
   ]
  },
  {
   "cell_type": "markdown",
   "metadata": {},
   "source": [
    "## Basic setup"
   ]
  },
  {
   "cell_type": "code",
   "execution_count": 3,
   "metadata": {
    "scrolled": false
   },
   "outputs": [],
   "source": [
    "# a. function\n",
    "def f(x):\n",
    "    return x*x\n",
    "\n",
    "# b. grid pints\n",
    "low_x = 0\n",
    "high_x = 10\n",
    "Nx = 50\n",
    "grid_x = np.linspace(low_x,high_x,Nx)\n",
    "\n",
    "# c. known values\n",
    "ff = f(grid_x)\n",
    "\n",
    "# d. unknown points\n",
    "Nxi = 100\n",
    "xi = np.random.uniform(low=low_x,high=1.1*high_x,size=(Nxi,1))"
   ]
  },
  {
   "cell_type": "markdown",
   "metadata": {},
   "source": [
    "## Single point"
   ]
  },
  {
   "cell_type": "code",
   "execution_count": 4,
   "metadata": {
    "code_folding": [],
    "scrolled": true
   },
   "outputs": [
    {
     "name": "stdout",
     "output_type": "stream",
     "text": [
      "x =  9.71 -> fhat =  94.21 (true  94.20)\n",
      "x =  1.15 -> fhat =   1.33 (true   1.32)\n",
      "x =  9.98 -> fhat =  99.55 (true  99.54)\n",
      "x =  3.37 -> fhat =  11.37 (true  11.36)\n",
      "x =  4.91 -> fhat =  24.12 (true  24.11)\n"
     ]
    }
   ],
   "source": [
    "# a. interpolator\n",
    "fhat = linear_interp.create_interpolator(grids=[grid_x],values=[ff],Nxi=1)\n",
    "\n",
    "# b. interpolate\n",
    "for i in range(5):\n",
    "    fhat_xi = fhat.evaluate(xi[i,:])[0]\n",
    "    f_xi = f(xi[i,0])\n",
    "    print('x = {:5.2f} -> fhat = {:6.2f} (true {:6.2f})'.format(xi[i,0],fhat_xi,f_xi))"
   ]
  },
  {
   "cell_type": "markdown",
   "metadata": {},
   "source": [
    "## Vector of points"
   ]
  },
  {
   "cell_type": "code",
   "execution_count": 5,
   "metadata": {
    "scrolled": false
   },
   "outputs": [
    {
     "name": "stdout",
     "output_type": "stream",
     "text": [
      "x =  9.71 -> fhat =  94.21 (true  94.20)\n",
      "x =  1.15 -> fhat =   1.33 (true   1.32)\n",
      "x =  9.98 -> fhat =  99.55 (true  99.54)\n",
      "x =  3.37 -> fhat =  11.37 (true  11.36)\n",
      "x =  4.91 -> fhat =  24.12 (true  24.11)\n"
     ]
    }
   ],
   "source": [
    "# a. interpolator\n",
    "fhat = linear_interp.create_interpolator(grids=[grid_x],values=[ff],Nxi=Nxi)\n",
    "\n",
    "# b. interpolate\n",
    "fhat_xi_vec = fhat.evaluate(xi.ravel())\n",
    "for i in range(5):\n",
    "    f_xi = f(xi[i,0])\n",
    "    print('x = {:5.2f} -> fhat = {:6.2f} (true {:6.2f})'.format(xi[i,0],fhat_xi_vec[i],f_xi))"
   ]
  },
  {
   "cell_type": "markdown",
   "metadata": {},
   "source": [
    "## Multi-function interpolation (point)"
   ]
  },
  {
   "cell_type": "code",
   "execution_count": 6,
   "metadata": {},
   "outputs": [
    {
     "name": "stdout",
     "output_type": "stream",
     "text": [
      "x =  9.71 -> fhat =  94.21 (true  94.20), ghat =  89.21 (true  89.20)\n",
      "x =  1.15 -> fhat =   1.33 (true   1.32), ghat =  -3.67 (true  -3.68)\n",
      "x =  9.98 -> fhat =  99.55 (true  99.54), ghat =  94.55 (true  94.54)\n",
      "x =  3.37 -> fhat =  11.37 (true  11.36), ghat =   6.37 (true   6.36)\n",
      "x =  4.91 -> fhat =  24.12 (true  24.11), ghat =  19.12 (true  19.11)\n"
     ]
    }
   ],
   "source": [
    "# a. new function\n",
    "def g(x):\n",
    "    return x*x - 5\n",
    "\n",
    "# b. known values (same grid)\n",
    "gg = g(grid_x)\n",
    "\n",
    "# c. interpolator\n",
    "fghat = linear_interp.create_interpolator(grids=[grid_x],values=[ff,gg],Nxi=1)\n",
    "\n",
    "# d. interpolate\n",
    "for i in range(5):\n",
    "    fghat_xi = fghat.evaluate(xi[i,:])\n",
    "    f_xi = f(xi[i,0])\n",
    "    g_xi = g(xi[i,0])\n",
    "    print('x = {:5.2f} -> fhat = {:6.2f} (true {:6.2f}), ghat = {:6.2f} (true {:6.2f})'.format(\n",
    "        xi[i,0],fghat_xi[0],f_xi,fghat_xi[1],g_xi))"
   ]
  },
  {
   "cell_type": "markdown",
   "metadata": {},
   "source": [
    "## Multi-function interpolation (vector)"
   ]
  },
  {
   "cell_type": "code",
   "execution_count": 7,
   "metadata": {},
   "outputs": [
    {
     "name": "stdout",
     "output_type": "stream",
     "text": [
      "x =  9.71 -> fhat =  94.21 (true f =  94.20), ghat =  89.21 (true g =  89.20)\n",
      "x =  1.15 -> fhat =   1.33 (true f =   1.32), ghat =  -3.67 (true g =  -3.68)\n",
      "x =  9.98 -> fhat =  99.55 (true f =  99.54), ghat =  94.55 (true g =  94.54)\n",
      "x =  3.37 -> fhat =  11.37 (true f =  11.36), ghat =   6.37 (true g =   6.36)\n",
      "x =  4.91 -> fhat =  24.12 (true f =  24.11), ghat =  19.12 (true g =  19.11)\n"
     ]
    }
   ],
   "source": [
    "# a. interpolator\n",
    "fghat = linear_interp.create_interpolator(grids=[grid_x],values=[ff,gg],Nxi=Nxi)\n",
    "\n",
    "# b. interpolate\n",
    "fghat_xis = fghat.evaluate(xi.ravel())\n",
    "for i in range(5): \n",
    "    f_xi = f(xi[i,0])\n",
    "    g_xi = g(xi[i,0])\n",
    "    print('x = {:5.2f} -> fhat = {:6.2f} (true f = {:6.2f}), ghat = {:6.2f} (true g = {:6.2f})'.format(\n",
    "        xi[i,0],fghat_xis[i],f_xi,fghat_xis[Nxi+i],g_xi))"
   ]
  },
  {
   "cell_type": "markdown",
   "metadata": {},
   "source": [
    "# Multi-dimensional examples"
   ]
  },
  {
   "cell_type": "markdown",
   "metadata": {},
   "source": [
    "In this section, we show some multi-dimensional examples of how to use the interpolator class."
   ]
  },
  {
   "cell_type": "markdown",
   "metadata": {},
   "source": [
    "## Without monotonoicity"
   ]
  },
  {
   "cell_type": "code",
   "execution_count": 8,
   "metadata": {
    "scrolled": true
   },
   "outputs": [
    {
     "name": "stdout",
     "output_type": "stream",
     "text": [
      "(x,y) = ( 5.84, 2.49) -> fhat =  36.62 (true f =  36.61), ghat =  31.62 (true g =  31.61)\n",
      "(x,y) = ( 4.95, 3.84) -> fhat =  28.39 (true f =  28.38), ghat =  23.39 (true g =  23.38)\n",
      "(x,y) = ( 7.33, 3.95) -> fhat =  57.73 (true f =  57.73), ghat =  52.73 (true g =  52.73)\n",
      "(x,y) = ( 6.21, 5.73) -> fhat =  44.24 (true f =  44.23), ghat =  39.24 (true g =  39.23)\n",
      "(x,y) = ( 0.06, 7.83) -> fhat =   7.84 (true f =   7.84), ghat =   2.84 (true g =   2.84)\n"
     ]
    }
   ],
   "source": [
    "# a. functions\n",
    "def f(x,y):\n",
    "    return x*x + y\n",
    "\n",
    "def g(x,y):\n",
    "    return x*x + y - 5\n",
    "\n",
    "# b. grid pints\n",
    "low_x = 0\n",
    "low_y = 0\n",
    "high_x = 10\n",
    "high_y = 8\n",
    "Nx = 50\n",
    "Ny = 50\n",
    "grid_x = np.linspace(low_x,high_x,Nx)\n",
    "grid_y = np.linspace(low_y,high_y,Ny)\n",
    "\n",
    "# c. known values\n",
    "xx, yy = np.meshgrid(grid_x,grid_y,indexing='ij')\n",
    "ff = f(xx,yy)\n",
    "gg = g(xx,yy)\n",
    "\n",
    "# d. unknown points\n",
    "Nxi = 100\n",
    "xi = np.zeros((Nxi,2))\n",
    "xi[:,0] = np.random.uniform(low=low_x,high=1.1*high_x,size=(Nxi,))\n",
    "xi[:,1] = np.random.uniform(low=low_y,high=1.1*high_y,size=(Nxi,))\n",
    "\n",
    "# e. interpolator\n",
    "fghat = linear_interp.create_interpolator(grids=[grid_x,grid_y],values=[ff,gg],Nxi=Nxi)\n",
    "\n",
    "# f. interpolate\n",
    "fghat_xis = fghat.evaluate(xi.ravel())\n",
    "for i in range(5): \n",
    "    f_xi = f(xi[i,0],xi[i,1])\n",
    "    g_xi = g(xi[i,0],xi[i,1])\n",
    "    print('(x,y) = ({:5.2f},{:5.2f}) -> fhat = {:6.2f} (true f = {:6.2f}), ghat = {:6.2f} (true g = {:6.2f})'.format(\n",
    "        xi[i,0],xi[i,1],fghat_xis[i],f_xi,fghat_xis[Nxi+i],g_xi))"
   ]
  },
  {
   "cell_type": "markdown",
   "metadata": {},
   "source": [
    "## With monotonicity"
   ]
  },
  {
   "cell_type": "code",
   "execution_count": 9,
   "metadata": {},
   "outputs": [
    {
     "name": "stdout",
     "output_type": "stream",
     "text": [
      "(x,y) = ( 0.57, 0.00) -> fhat =   0.33 (true f =   0.32), ghat =  -4.67 (true g =  -4.68)\n",
      "(x,y) = ( 0.57, 0.10) -> fhat =   0.43 (true f =   0.42), ghat =  -4.57 (true g =  -4.58)\n",
      "(x,y) = ( 0.57, 0.19) -> fhat =   0.52 (true f =   0.52), ghat =  -4.48 (true g =  -4.48)\n",
      "(x,y) = ( 0.57, 0.29) -> fhat =   0.62 (true f =   0.61), ghat =  -4.38 (true g =  -4.39)\n",
      "(x,y) = ( 0.57, 0.39) -> fhat =   0.72 (true f =   0.71), ghat =  -4.28 (true g =  -4.29)\n",
      "(x,y) = ( 0.57, 0.48) -> fhat =   0.81 (true f =   0.81), ghat =  -4.19 (true g =  -4.19)\n",
      "(x,y) = ( 0.57, 0.58) -> fhat =   0.91 (true f =   0.90), ghat =  -4.09 (true g =  -4.10)\n",
      "(x,y) = ( 0.57, 0.68) -> fhat =   1.01 (true f =   1.00), ghat =  -3.99 (true g =  -4.00)\n",
      "(x,y) = ( 0.57, 0.78) -> fhat =   1.10 (true f =   1.10), ghat =  -3.90 (true g =  -3.90)\n",
      "(x,y) = ( 0.57, 0.87) -> fhat =   1.20 (true f =   1.19), ghat =  -3.80 (true g =  -3.81)\n"
     ]
    }
   ],
   "source": [
    "# g. unknown points with monotonicity\n",
    "xi_vec = np.linspace(low_y,1.2*high_y,Nxi)\n",
    "\n",
    "xi_base = np.zeros(2)\n",
    "xi_base[0:1] = np.random.uniform(low=low_x,high=1.1*high_x,size=(1,))\n",
    "xi_base[1] = xi_vec[0]\n",
    "\n",
    "xi = np.zeros((Nxi,2))\n",
    "xi[:,0:1] = xi_base[0:1]\n",
    "xi[:,1] = xi_vec\n",
    "  \n",
    "# h. interpolate\n",
    "fghat_xis = fghat.evaluate_monotone(xi_base,xi_vec)\n",
    "for i in range(10): \n",
    "    f_xi = f(xi[i,0],xi[i,1])\n",
    "    g_xi = g(xi[i,0],xi[i,1])\n",
    "    print('(x,y) = ({:5.2f},{:5.2f}) -> fhat = {:6.2f} (true f = {:6.2f}), ghat = {:6.2f} (true g = {:6.2f})'.format(\n",
    "        xi[i,0],xi[i,1],fghat_xis[i],f_xi,fghat_xis[Nxi+i],g_xi))"
   ]
  },
  {
   "cell_type": "markdown",
   "metadata": {},
   "source": [
    "# Parallel"
   ]
  },
  {
   "cell_type": "markdown",
   "metadata": {},
   "source": [
    "In this section, we show how to use the interpolator class inside a parallel loop."
   ]
  },
  {
   "cell_type": "code",
   "execution_count": 10,
   "metadata": {},
   "outputs": [
    {
     "name": "stdout",
     "output_type": "stream",
     "text": [
      "serial: \t 10.0 secs\n",
      "parallel: \t 4.0 secs\n"
     ]
    }
   ],
   "source": [
    "# a. functions\n",
    "def f(x,y):\n",
    "    return x*x + y\n",
    "\n",
    "# b. grid pints\n",
    "Nx = 100\n",
    "grid_x = np.linspace(0,1,Nx)\n",
    "\n",
    "# c. known values\n",
    "xx, yy = np.meshgrid(grid_x,grid_y,indexing='ij')\n",
    "ff = f(xx,yy)\n",
    "\n",
    "# d. unknown points\n",
    "Nxi = 10**6\n",
    "xi = np.random.uniform(size=(Nxi,2))\n",
    "\n",
    "# e. test function\n",
    "@numba.njit(nogil=True)    \n",
    "def test_serial(x,dimx,Nx,y,dimy,Ny,Nxi,xi,yi,long_length):    \n",
    "    for i in range(long_length):\n",
    "        interpolator = linear_interp.interpolator(x,dimx,Nx,y,dimy,Ny,Nxi) # jitted create\n",
    "        yi[i*Nxi:(i+1)*Nxi] = interpolator.evaluate(xi)\n",
    "    \n",
    "@numba.njit(parallel=True) \n",
    "def test_parallel(x,dimx,Nx,y,dimy,Ny,Nxi,xi,yi,long_length):    \n",
    "    for i in numba.prange(long_length):        \n",
    "        interpolator = linear_interp.interpolator(x,dimx,Nx,y,dimy,Ny,Nxi) # jitted create\n",
    "        yi[i*Nxi:(i+1)*Nxi] = interpolator.evaluate(xi)\n",
    "\n",
    "# f. needed information \n",
    "s = linear_interp.create_interpolator_dict(grids=[grid_x,grid_y],values=[ff],Nxi=Nxi)\n",
    "\n",
    "loop_length = 40\n",
    "yi_serial = np.zeros((loop_length*Nxi,1))\n",
    "yi_parallel = np.zeros((loop_length*Nxi,1))\n",
    "\n",
    "# g. run\n",
    "tic = time.time()\n",
    "test_serial(s.x,s.dimx,s.Nx,s.y,s.dimy,s.Ny,s.Nxi,xi.ravel(),yi_serial.ravel(),loop_length)\n",
    "toc = time.time()\n",
    "print(f'serial: \\t {toc-tic:.1f} secs')\n",
    "\n",
    "tic = time.time()\n",
    "test_parallel(s.x,s.dimx,s.Nx,s.y,s.dimy,s.Ny,s.Nxi,xi.ravel(),yi_parallel.ravel(),loop_length)\n",
    "toc = time.time()\n",
    "print(f'parallel: \\t {toc-tic:.1f} secs')\n",
    "\n",
    "assert np.allclose(yi_serial,yi_parallel)"
   ]
  },
  {
   "cell_type": "markdown",
   "metadata": {},
   "source": [
    "# Speed Tests (without parallization)"
   ]
  },
  {
   "cell_type": "markdown",
   "metadata": {},
   "source": [
    "## Loop with interpolation for single point"
   ]
  },
  {
   "cell_type": "markdown",
   "metadata": {},
   "source": [
    "In this sub-section we showsbest of 5 timings for a test case with **3 input dimensions** and **2 output dimensions** and a long loop with interpolation of a single point."
   ]
  },
  {
   "cell_type": "code",
   "execution_count": 11,
   "metadata": {
    "scrolled": true
   },
   "outputs": [
    {
     "name": "stdout",
     "output_type": "stream",
     "text": [
      "loop length \t 1000\n",
      "linear_interp \t 0.00 secs\n",
      "scipy \t\t 0.20 secs\n",
      "speed-up \t 65.7\n",
      "\n",
      "loop length \t 5000\n",
      "linear_interp \t 0.02 secs\n",
      "scipy \t\t 1.01 secs\n",
      "speed-up \t 55.8\n",
      "\n",
      "loop length \t 10000\n",
      "linear_interp \t 0.04 secs\n",
      "scipy \t\t 1.93 secs\n",
      "speed-up \t 43.8\n",
      "\n"
     ]
    }
   ],
   "source": [
    "for loop_length in [10**3,5*10**3,10**4]:\n",
    "    linear_interp_test.single(loop_length)"
   ]
  },
  {
   "cell_type": "markdown",
   "metadata": {},
   "source": [
    "## Interpolation for a vector of points"
   ]
  },
  {
   "cell_type": "markdown",
   "metadata": {},
   "source": [
    "In this sub-section we show best of 5 timings for a test case with **3 input dimensions** and **2 output dimensions** and interpolation of a large vector of points."
   ]
  },
  {
   "cell_type": "code",
   "execution_count": 12,
   "metadata": {
    "scrolled": true
   },
   "outputs": [
    {
     "name": "stdout",
     "output_type": "stream",
     "text": [
      "vector length \t 500000\n",
      "linear_interp \t 0.05 secs\n",
      "linear_interp \t 0.15 secs (no monotonicity)\n",
      "scipy \t\t 0.82 secs\n",
      "speed-up \t 18.2\n",
      "speed-up \t 5.4 (no monotonicity)\n",
      "\n",
      "vector length \t 1000000\n",
      "linear_interp \t 0.09 secs\n",
      "linear_interp \t 0.30 secs (no monotonicity)\n",
      "scipy \t\t 1.68 secs\n",
      "speed-up \t 19.0\n",
      "speed-up \t 5.6 (no monotonicity)\n",
      "\n",
      "vector length \t 5000000\n",
      "linear_interp \t 0.43 secs\n",
      "linear_interp \t 1.52 secs (no monotonicity)\n",
      "scipy \t\t 8.95 secs\n",
      "speed-up \t 20.6\n",
      "speed-up \t 5.9 (no monotonicity)\n",
      "\n"
     ]
    }
   ],
   "source": [
    "for Nxi in [5*10**5,10**6,5*10**6]:\n",
    "    linear_interp_test.vector(Nxi)"
   ]
  }
 ],
 "metadata": {
  "kernelspec": {
   "display_name": "Python 3",
   "language": "python",
   "name": "python3"
  },
  "language_info": {
   "codemirror_mode": {
    "name": "ipython",
    "version": 3
   },
   "file_extension": ".py",
   "mimetype": "text/x-python",
   "name": "python",
   "nbconvert_exporter": "python",
   "pygments_lexer": "ipython3",
   "version": "3.6.5"
  },
  "toc": {
   "base_numbering": 1,
   "nav_menu": {},
   "number_sections": true,
   "sideBar": true,
   "skip_h1_title": false,
   "title_cell": "Table of Contents",
   "title_sidebar": "Contents",
   "toc_cell": true,
   "toc_position": {},
   "toc_section_display": true,
   "toc_window_display": false
  }
 },
 "nbformat": 4,
 "nbformat_minor": 2
}
